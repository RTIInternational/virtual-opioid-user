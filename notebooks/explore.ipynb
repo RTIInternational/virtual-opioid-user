{
 "metadata": {
  "language_info": {
   "codemirror_mode": {
    "name": "ipython",
    "version": 3
   },
   "file_extension": ".py",
   "mimetype": "text/x-python",
   "name": "python",
   "nbconvert_exporter": "python",
   "pygments_lexer": "ipython3",
   "version": "3.8.5-final"
  },
  "orig_nbformat": 2,
  "kernelspec": {
   "name": "python3",
   "display_name": "Python 3",
   "language": "python"
  }
 },
 "nbformat": 4,
 "nbformat_minor": 2,
 "cells": [
  {
   "cell_type": "code",
   "execution_count": null,
   "metadata": {},
   "outputs": [],
   "source": [
    "import numpy as np\n",
    "from matplotlib import pyplot as plt"
   ]
  },
  {
   "cell_type": "code",
   "execution_count": null,
   "metadata": {},
   "outputs": [],
   "source": [
    "def logistic(x, L, k, x0):\n",
    "    \"\"\"\n",
    "    L is the curve's maximum value\n",
    "    k is the logistic growth rate or steepness of the curve\n",
    "    x0 is the x value at the sigmoid's midpoint\n",
    "    \"\"\"\n",
    "    y = L / (1 + np.exp(-k * (x - x0)))\n",
    "    return y\n"
   ]
  },
  {
   "cell_type": "code",
   "execution_count": null,
   "metadata": {},
   "outputs": [],
   "source": [
    "L1 = 1.05\n",
    "L2 = 0.45\n",
    "K1 = 0.2\n",
    "K2 = 0.0002\n",
    "X1 = 0.175\n"
   ]
  },
  {
   "cell_type": "code",
   "execution_count": null,
   "metadata": {},
   "outputs": [],
   "source": [
    "# Low dose\n",
    "\n",
    "dose1 = 50\n",
    "roll1 = 10\n",
    "\n",
    "logistic(\n",
    "    roll1,\n",
    "    L=(dose1 ** L1) * L2,\n",
    "    k=K1 - (dose1 * K2),\n",
    "    x0=dose1 * X1,\n",
    ")"
   ]
  },
  {
   "cell_type": "code",
   "execution_count": null,
   "metadata": {},
   "outputs": [],
   "source": [
    "# Medium dose\n",
    "\n",
    "dose2 = 200\n",
    "roll2 = 30\n",
    "\n",
    "logistic(\n",
    "    roll2,\n",
    "    L=(dose2 ** L1) * L2,\n",
    "    k=K1 - (dose2 * K2),\n",
    "    x0=dose2 * X1,\n",
    ")"
   ]
  },
  {
   "cell_type": "code",
   "execution_count": null,
   "metadata": {},
   "outputs": [],
   "source": [
    "# High dose\n",
    "\n",
    "dose3 = 600\n",
    "roll3 = 100\n",
    "\n",
    "logistic(\n",
    "    roll3,\n",
    "    L=(dose3 ** L1) * L2,\n",
    "    k=K1 - (dose3 * K2),\n",
    "    x0=dose3 * X1,\n",
    ")"
   ]
  },
  {
   "source": [
    "### Risk aversion exploration"
   ],
   "cell_type": "markdown",
   "metadata": {}
  },
  {
   "cell_type": "code",
   "execution_count": null,
   "metadata": {},
   "outputs": [],
   "source": [
    "def risk_aversion(baseline, dose):\n",
    "    return baseline + ((1 - baseline) / (1 + np.exp(-0.01 * (dose - 500))))\n"
   ]
  },
  {
   "cell_type": "code",
   "execution_count": null,
   "metadata": {},
   "outputs": [],
   "source": [
    "def plot():\n",
    "    x_line = np.arange(50, 2000, 25)\n",
    "    y_high = risk_aversion(baseline=0.9, dose=x_line)\n",
    "    y_med = risk_aversion(baseline=0.5, dose=x_line)\n",
    "    y_low = risk_aversion(baseline=0.1, dose=x_line)\n",
    "    plt.plot(x_line, y_high, '--', color='green', label=\"risk aversion = 0.9\")\n",
    "    plt.plot(x_line, y_med, '--', color='blue', label=\"risk aversion = 0.5\")\n",
    "    plt.plot(x_line, y_low, '--', color='red', label=\"risk aversion = 0.1\")\n",
    "    plt.xlabel('Dose (MME)')\n",
    "    plt.ylabel('Decision Threshold')\n",
    "    plt.ylim(0, 1.1)\n",
    "    plt.legend()"
   ]
  },
  {
   "cell_type": "code",
   "execution_count": null,
   "metadata": {},
   "outputs": [],
   "source": [
    "plot()"
   ]
  },
  {
   "source": [
    "### OD use pause exploration"
   ],
   "cell_type": "markdown",
   "metadata": {}
  },
  {
   "source": [
    "Simple version with a maximum delay scaled by user risk factors"
   ],
   "cell_type": "markdown",
   "metadata": {}
  },
  {
   "cell_type": "code",
   "execution_count": null,
   "metadata": {},
   "outputs": [],
   "source": [
    "external_risk = 0.1\n",
    "internal_risk = 0.1\n",
    "rand = 1\n",
    "\n",
    "post_OD_use_pause = (\n",
    "                        (5 * 100)\n",
    "                        - (5 * 100 * external_risk * internal_risk)\n",
    "                    ) * rand\n",
    "print(post_OD_use_pause / 100)"
   ]
  },
  {
   "source": [
    "More complex version with a logistic function"
   ],
   "cell_type": "markdown",
   "metadata": {}
  },
  {
   "source": [
    "def use_pause(risk):\n",
    "    t = (30 * 100) / (1 + np.exp(-10 * (2 - risk - 1.75)))\n",
    "    return t / 100"
   ],
   "cell_type": "code",
   "metadata": {},
   "execution_count": null,
   "outputs": []
  },
  {
   "cell_type": "code",
   "execution_count": null,
   "metadata": {},
   "outputs": [],
   "source": [
    "use_pause(1)"
   ]
  },
  {
   "cell_type": "code",
   "execution_count": null,
   "metadata": {},
   "outputs": [],
   "source": [
    "def plot():\n",
    "    x_line = np.arange(0.05, 2, 0.01)\n",
    "    y_line = use_pause(x_line)\n",
    "    plt.plot(x_line, y_line)\n",
    "    plt.xlabel('Combined Risk')\n",
    "    plt.ylabel('Use Pause (Days)')"
   ]
  },
  {
   "cell_type": "code",
   "execution_count": null,
   "metadata": {},
   "outputs": [],
   "source": [
    "plot()"
   ]
  },
  {
   "source": [
    "Another complex version using exponential decay"
   ],
   "cell_type": "markdown",
   "metadata": {}
  },
  {
   "cell_type": "code",
   "execution_count": null,
   "metadata": {},
   "outputs": [],
   "source": [
    "def use_pause_decay(risk):\n",
    "    a = 60 * 100\n",
    "    r = -0.999\n",
    "    y = a * (1 + r) ** risk\n",
    "    return y / 100\n",
    "\n"
   ]
  },
  {
   "cell_type": "code",
   "execution_count": null,
   "metadata": {},
   "outputs": [],
   "source": [
    "use_pause_decay(1.8)"
   ]
  },
  {
   "cell_type": "code",
   "execution_count": null,
   "metadata": {},
   "outputs": [],
   "source": [
    "use_pause_decay"
   ]
  },
  {
   "cell_type": "code",
   "execution_count": null,
   "metadata": {},
   "outputs": [],
   "source": [
    "def plot():\n",
    "    x_line = np.arange(0.1, 2, 0.01)\n",
    "    y_line = use_pause_decay(x_line)\n",
    "    plt.plot(x_line, y_line)\n",
    "    plt.xlabel('Combined Risk')\n",
    "    plt.ylabel('Use Pause (Days)')\n",
    "\n",
    "plot()"
   ]
  },
  {
   "source": [
    "### OD dose reduction exploration\n",
    "\n",
    "Zero-intercept linear model based on combined risk. \n",
    "\n",
    "At risk=0, user decreases dose by 50%. Therefore, intercept is 0.5.\n",
    "\n",
    "At risk=2, user does not decrease dose at all. Function should return 1.\n",
    "\n",
    "Therefore, slope = 0.5 / 2"
   ],
   "cell_type": "markdown",
   "metadata": {}
  },
  {
   "cell_type": "code",
   "execution_count": null,
   "metadata": {},
   "outputs": [],
   "source": [
    "def OD_dose_reduction(risk):\n",
    "    intercept = 0.5\n",
    "    slope = 0.25\n",
    "    dose_reduction = risk * slope + intercept\n",
    "    return dose_reduction\n"
   ]
  },
  {
   "cell_type": "code",
   "execution_count": null,
   "metadata": {},
   "outputs": [],
   "source": [
    "def plot():\n",
    "    x_line = np.arange(0.1, 2, 0.01)\n",
    "    y_line = OD_dose_reduction(x_line)\n",
    "    plt.plot(x_line, y_line)\n",
    "    plt.xlabel('Combined Risk')\n",
    "    plt.ylabel('Dose Reduction')\n",
    "\n",
    "plot()"
   ]
  },
  {
   "cell_type": "code",
   "execution_count": null,
   "metadata": {},
   "outputs": [],
   "source": []
  }
 ]
}