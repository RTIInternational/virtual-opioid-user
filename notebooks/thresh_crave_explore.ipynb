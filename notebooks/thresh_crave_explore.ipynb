{
 "metadata": {
  "language_info": {
   "codemirror_mode": {
    "name": "ipython",
    "version": 3
   },
   "file_extension": ".py",
   "mimetype": "text/x-python",
   "name": "python",
   "nbconvert_exporter": "python",
   "pygments_lexer": "ipython3",
   "version": "3.8.5-final"
  },
  "orig_nbformat": 2,
  "kernelspec": {
   "name": "python3",
   "display_name": "Python 3",
   "language": "python"
  }
 },
 "nbformat": 4,
 "nbformat_minor": 2,
 "cells": [
  {
   "cell_type": "code",
   "execution_count": null,
   "metadata": {},
   "outputs": [],
   "source": [
    "def thresh(procA, procB, procC, procD):\n",
    "    B1 = 0.005\n",
    "    B2 = 0.25\n",
    "    B3 = 0.5\n",
    "    B4 = 0.995\n",
    "    t = (B1 * procB + B2 * procD) / (1 + B3 * procA) / (1 + B4 * procC)\n",
    "    return t"
   ]
  },
  {
   "cell_type": "code",
   "execution_count": null,
   "metadata": {},
   "outputs": [],
   "source": [
    "def new_thresh(procA, procB, procC):\n",
    "    B1 = 0.005\n",
    "    B2 = 0.25\n",
    "    B3 = 0.5\n",
    "    t = (B1 * procB + B2 * procC) / (1 + B3 * procA)\n",
    "    return t"
   ]
  },
  {
   "cell_type": "code",
   "execution_count": null,
   "metadata": {},
   "outputs": [],
   "source": [
    "def craving(procD, conc, thresh):\n",
    "    B1 = 1\n",
    "    B2 = 1\n",
    "    c = procD * (thresh - conc) / (conc + B1) / B2\n",
    "    return c"
   ]
  },
  {
   "cell_type": "code",
   "execution_count": null,
   "metadata": {},
   "outputs": [],
   "source": [
    "def report(procA, procB, procC, procD, stopped=False):\n",
    "    t = thresh(procA, procB, procC, procD)\n",
    "    nt = new_thresh(procA, procB, procC)\n",
    "\n",
    "    print(f\"Threshold: {t}\")\n",
    "    if stopped is False:\n",
    "        print(f\"Craving High: {craving(procD, 90, t)}\")\n",
    "    print(f\"Craving Not High: {craving(procD, 0, t)}\")\n",
    "\n",
    "    print(\"\\n\")\n",
    "\n",
    "    print(f\"New Threshold: {nt}\")\n",
    "    if stopped is False:\n",
    "        print(f\"New Craving High: {craving(procC, 90, nt)}\")\n",
    "    print(f\"New Craving Not High: {craving(procC, 0, nt)}\")"
   ]
  },
  {
   "cell_type": "code",
   "execution_count": null,
   "metadata": {},
   "outputs": [],
   "source": [
    "# Very start\n",
    "report(50, 5, 0.1, 0.01)"
   ]
  },
  {
   "cell_type": "code",
   "execution_count": null,
   "metadata": {},
   "outputs": [],
   "source": [
    "# Early use\n",
    "report(100, 50, 7, 1)"
   ]
  },
  {
   "cell_type": "code",
   "execution_count": null,
   "metadata": {},
   "outputs": [],
   "source": [
    "# Later in use\n",
    "report(100, 50, 15, 7)"
   ]
  },
  {
   "cell_type": "code",
   "execution_count": null,
   "metadata": {},
   "outputs": [],
   "source": [
    "# Does Threshold increase when D rises faster than C? \n",
    "# \n",
    "# Old threshold does, new does not (obvi)\n",
    "report(100, 50, 15, 25)"
   ]
  },
  {
   "cell_type": "code",
   "execution_count": null,
   "metadata": {},
   "outputs": [],
   "source": [
    "# Just stopped\n",
    "report(0, 20, 15, 7, True)"
   ]
  },
  {
   "cell_type": "code",
   "execution_count": null,
   "metadata": {},
   "outputs": [],
   "source": [
    "# Been stopped a while\n",
    "report(0, 0, 10, 7, True)"
   ]
  },
  {
   "cell_type": "code",
   "execution_count": null,
   "metadata": {},
   "outputs": [],
   "source": [
    "# Been stopped even longer\n",
    "report(0, 0, 7, 10, True)"
   ]
  },
  {
   "cell_type": "code",
   "execution_count": null,
   "metadata": {},
   "outputs": [],
   "source": [
    "# Stopped long ago\n",
    "report(0, 0, 0, 10, True)"
   ]
  },
  {
   "source": [
    "Threshold goes from around 0.00x during use to many orders of magnitude higher after cessation, when processes A and B drop to zero and processes C and D continue for much longer."
   ],
   "cell_type": "markdown",
   "metadata": {}
  }
 ]
}