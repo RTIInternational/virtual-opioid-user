{
 "metadata": {
  "language_info": {
   "codemirror_mode": {
    "name": "ipython",
    "version": 3
   },
   "file_extension": ".py",
   "mimetype": "text/x-python",
   "name": "python",
   "nbconvert_exporter": "python",
   "pygments_lexer": "ipython3",
   "version": "3.8.5-final"
  },
  "orig_nbformat": 2,
  "kernelspec": {
   "name": "python3",
   "display_name": "Python 3",
   "language": "python"
  }
 },
 "nbformat": 4,
 "nbformat_minor": 2,
 "cells": [
  {
   "cell_type": "code",
   "execution_count": 57,
   "metadata": {},
   "outputs": [],
   "source": [
    "def thresh(procA, procB, procC, procD):\n",
    "    B1 = 0.005\n",
    "    B2 = 0.25\n",
    "    B3 = 0.5\n",
    "    B4 = 0.995\n",
    "    t = (B1 * procB + B2 * procD) / (1 + B3 * procA) / (1 + B4 * procC)\n",
    "    return t"
   ]
  },
  {
   "cell_type": "code",
   "execution_count": 58,
   "metadata": {},
   "outputs": [],
   "source": [
    "def new_thresh(procA, procB, procC):\n",
    "    B1 = 0.005\n",
    "    B2 = 0.25\n",
    "    B3 = 0.5\n",
    "    t = (B1 * procB + B2 * procC) / (1 + B3 * procA)\n",
    "    return t"
   ]
  },
  {
   "cell_type": "code",
   "execution_count": 70,
   "metadata": {},
   "outputs": [],
   "source": [
    "def craving(procD, conc, thresh):\n",
    "    B1 = 1\n",
    "    B2 = 1\n",
    "    c = procD * (thresh - conc) / (conc + B1) / B2\n",
    "    return c"
   ]
  },
  {
   "cell_type": "code",
   "execution_count": 71,
   "metadata": {},
   "outputs": [],
   "source": [
    "def report(procA, procB, procC, procD, stopped=False):\n",
    "    t = thresh(procA, procB, procC, procD)\n",
    "    nt = new_thresh(procA, procB, procC)\n",
    "\n",
    "    print(f\"Threshold: {t}\")\n",
    "    if stopped is False:\n",
    "        print(f\"Craving High: {craving(procD, 90, t)}\")\n",
    "    print(f\"Craving Not High: {craving(procD, 0, t)}\")\n",
    "\n",
    "    print(\"\\n\")\n",
    "\n",
    "    print(f\"New Threshold: {nt}\")\n",
    "    if stopped is False:\n",
    "        print(f\"New Craving High: {craving(procC, 90, nt)}\")\n",
    "    print(f\"New Craving Not High: {craving(procC, 0, nt)}\")"
   ]
  },
  {
   "cell_type": "code",
   "execution_count": 72,
   "metadata": {},
   "outputs": [
    {
     "output_type": "stream",
     "name": "stdout",
     "text": [
      "Threshold: 0.0009619757232308393\nCraving High: -0.009890004178491953\nCraving Not High: 9.619757232308392e-06\n\n\nNew Threshold: 0.0019230769230769232\nNew Craving High: -0.09889898562975487\nNew Craving Not High: 0.00019230769230769233\n"
     ]
    }
   ],
   "source": [
    "# Very start\n",
    "report(50, 5, 0.1, 0.01)"
   ]
  },
  {
   "cell_type": "code",
   "execution_count": 73,
   "metadata": {},
   "outputs": [
    {
     "output_type": "stream",
     "name": "stdout",
     "text": [
      "Threshold: 0.0012308752754083428\nCraving High: -0.9889974629090614\nCraving Not High: 0.0012308752754083428\n\n\nNew Threshold: 0.0392156862745098\nNew Craving High: -6.920060331825037\nNew Craving Not High: 0.27450980392156865\n"
     ]
    }
   ],
   "source": [
    "# Early use\n",
    "report(100, 50, 7, 1)"
   ]
  },
  {
   "cell_type": "code",
   "execution_count": 74,
   "metadata": {},
   "outputs": [
    {
     "output_type": "stream",
     "name": "stdout",
     "text": [
      "Threshold: 0.002462523470926832\nCraving High: -6.9228874981945445\nCraving Not High: 0.017237664296487824\n\n\nNew Threshold: 0.0784313725490196\nNew Craving High: -14.822236586942468\nNew Craving Not High: 1.1764705882352942\n"
     ]
    }
   ],
   "source": [
    "# Later in use\n",
    "report(100, 50, 15, 7)"
   ]
  },
  {
   "cell_type": "code",
   "execution_count": 75,
   "metadata": {},
   "outputs": [
    {
     "output_type": "stream",
     "name": "stdout",
     "text": [
      "Threshold: 0.008003201280512203\nCraving High: -24.723076043604255\nCraving Not High: 0.20008003201280508\n\n\nNew Threshold: 0.0784313725490196\nNew Craving High: -14.822236586942468\nNew Craving Not High: 1.1764705882352942\n"
     ]
    }
   ],
   "source": [
    "# Does Threshold increase when D rises faster than C? \n",
    "# \n",
    "# Old threshold does, new does not (obvi)\n",
    "report(100, 50, 15, 25)"
   ]
  },
  {
   "cell_type": "code",
   "execution_count": 76,
   "metadata": {},
   "outputs": [
    {
     "output_type": "stream",
     "name": "stdout",
     "text": [
      "Threshold: 0.11616954474097331\nCraving Not High: 0.8131868131868132\n\n\nNew Threshold: 3.85\nNew Craving Not High: 57.75\n"
     ]
    }
   ],
   "source": [
    "# Just stopped\n",
    "report(0, 20, 15, 7, True)"
   ]
  },
  {
   "cell_type": "code",
   "execution_count": 77,
   "metadata": {},
   "outputs": [
    {
     "output_type": "stream",
     "name": "stdout",
     "text": [
      "Threshold: 0.15981735159817353\nCraving Not High: 1.1187214611872147\n\n\nNew Threshold: 2.5\nNew Craving Not High: 25.0\n"
     ]
    }
   ],
   "source": [
    "# Been stopped a while\n",
    "report(0, 0, 10, 7, True)"
   ]
  },
  {
   "cell_type": "code",
   "execution_count": 78,
   "metadata": {},
   "outputs": [
    {
     "output_type": "stream",
     "name": "stdout",
     "text": [
      "Threshold: 0.31387319522912743\nCraving Not High: 3.138731952291274\n\n\nNew Threshold: 1.75\nNew Craving Not High: 12.25\n"
     ]
    }
   ],
   "source": [
    "# Been stopped even longer\n",
    "report(0, 0, 7, 10, True)"
   ]
  },
  {
   "cell_type": "code",
   "execution_count": 79,
   "metadata": {},
   "outputs": [
    {
     "output_type": "stream",
     "name": "stdout",
     "text": [
      "Threshold: 2.5\nCraving Not High: 25.0\n\n\nNew Threshold: 0.0\nNew Craving Not High: 0.0\n"
     ]
    }
   ],
   "source": [
    "# Stopped long ago\n",
    "report(0, 0, 0, 10, True)"
   ]
  },
  {
   "source": [
    "Threshold goes from around 0.00x during use to many orders of magnitude higher after cessation, when processes A and B drop to zero and processes C and D continue for much longer."
   ],
   "cell_type": "markdown",
   "metadata": {}
  }
 ]
}