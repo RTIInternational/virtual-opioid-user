{
 "metadata": {
  "language_info": {
   "codemirror_mode": {
    "name": "ipython",
    "version": 3
   },
   "file_extension": ".py",
   "mimetype": "text/x-python",
   "name": "python",
   "nbconvert_exporter": "python",
   "pygments_lexer": "ipython3",
   "version": "3.8.5-final"
  },
  "orig_nbformat": 2,
  "kernelspec": {
   "name": "python3",
   "display_name": "Python 3.8.5 64-bit ('vou': conda)",
   "metadata": {
    "interpreter": {
     "hash": "a4dc872030a726c49c839971b94840ce82689042740c5b089f3174d89e813f92"
    }
   }
  }
 },
 "nbformat": 4,
 "nbformat_minor": 2,
 "cells": [
  {
   "cell_type": "code",
   "execution_count": null,
   "metadata": {},
   "outputs": [],
   "source": [
    "import pandas as pd\n",
    "import numpy as np\n",
    "from scipy.optimize import curve_fit\n",
    "from scipy.stats import linregress\n",
    "import matplotlib.pyplot as plt"
   ]
  },
  {
   "cell_type": "code",
   "execution_count": null,
   "metadata": {},
   "outputs": [],
   "source": [
    "dasgupta = pd.read_csv('vou/vou/inputs/dasgupta2016_OD_rates.csv')"
   ]
  },
  {
   "cell_type": "code",
   "execution_count": null,
   "metadata": {},
   "outputs": [],
   "source": [
    "dasgupta['dose_mid'] = np.ceil((dasgupta.dose_lower + dasgupta.dose_upper) / 2)\n",
    "dasgupta.dose_mid[14] = 650 # per paper\n",
    "dasgupta['rate_per_py'] = dasgupta.rate_per_10k_py / 10_000\n",
    "dasgupta['rate_per_day'] = dasgupta.rate_per_py / 365.25\n",
    "\n",
    "# Per Dunn et al 2010, about 1 in every 8.5 overdoses is fatal. Since these rates are for overdose deaths, \n",
    "# we need to adjust them to get overdose rates. This is a very crude method. It does not account for the\n",
    "# possibility that overdoses with higher doses are more likely to be fatal. But it's enough for now.\n",
    "dasgupta['OD_rate_per_day'] = dasgupta.rate_per_day * 8.5\n",
    "\n",
    "# Since these doses all have very low OD probabilities, we can't fit a logistic function reliably. \n",
    "# Here we manually add a much higher dose that is in the ballpark of what is qualitatively considered\n",
    "# a certainly lethal dose.\n",
    "deadly_dose = {\n",
    "    'dose_lower': 2000, \n",
    "    'dose_upper': 2000, \n",
    "    'rate_per_10k_py': None, \n",
    "    'dose_mid': 2000,\n",
    "    'rate_per_py': None, \n",
    "    'rate_per_day': None, \n",
    "    'OD_rate_per_day': 1\n",
    "}\n",
    "dasgupta = dasgupta.append(deadly_dose, ignore_index=True)"
   ]
  },
  {
   "cell_type": "code",
   "execution_count": null,
   "metadata": {},
   "outputs": [],
   "source": [
    "plt.scatter(dasgupta.dose_mid, dasgupta.OD_rate_per_day)"
   ]
  },
  {
   "cell_type": "code",
   "execution_count": null,
   "metadata": {},
   "outputs": [],
   "source": [
    "def logistic(x, x0, k):\n",
    "    \"\"\"\n",
    "    Define the logistic model function.\n",
    "\n",
    "    Per scipy's curve_fit, must take the independent variable as the first\n",
    "    argument and the parameters to fit as separate remaining arguments.\n",
    "\n",
    "    L is the curve's maximum value\n",
    "    x0 is the x value at the sigmoid's midpoint\n",
    "    k is the logistic growth rate or steepness of the curve\n",
    "    b is the intercept\n",
    "    \"\"\"\n",
    "    L = 1\n",
    "    b = 0\n",
    "    y = L / (1 + np.exp(-k * (x - x0))) + b\n",
    "    return y"
   ]
  },
  {
   "cell_type": "code",
   "execution_count": null,
   "metadata": {},
   "outputs": [],
   "source": [
    "def set_starting_guess(xdata: pd.Series, ydata: pd.Series, k: float = 1):\n",
    "    \"\"\"\n",
    "    Uses the series of x data to be modeled to set the initial guesses for the\n",
    "    parameters in the order they are specified in the logistic function. \n",
    "\n",
    "    Starting guesses:\n",
    "    L is the maximum of the x values\n",
    "    x0 is the median of the x values\n",
    "    k is defined in the parameters (default of 1)\n",
    "    b is the minimum of the y values\n",
    "    \"\"\"\n",
    "    # L = np.max(ydata)\n",
    "    x0 = np.median(xdata)\n",
    "    k = k\n",
    "    # b = np.min(ydata)\n",
    "    return [x0, k]\n",
    "\n",
    "\n",
    "p0 = [1000, .0001]\n"
   ]
  },
  {
   "cell_type": "code",
   "execution_count": null,
   "metadata": {},
   "outputs": [],
   "source": [
    "# Set bounds for the parameters to be optimized.\n",
    "# L upper bound is 1 since y is a probability.\n",
    "\n",
    "# Bounds:\n",
    "# L: 0, 1\n",
    "# x0: 0, infinity\n",
    "# k: 0, infinity\n",
    "# b: 0, infinity\n",
    "\n",
    "bounds = ([0.999, 0, 0, 0], [1, np.inf, np.inf, np.inf])\n"
   ]
  },
  {
   "cell_type": "code",
   "execution_count": null,
   "metadata": {},
   "outputs": [],
   "source": [
    "logistic_coefficients, logistic_cov_matrix = curve_fit(\n",
    "    f=logistic, \n",
    "    xdata=dasgupta.dose_mid, \n",
    "    ydata=dasgupta.OD_rate_per_day, \n",
    "    p0=p0, \n",
    "    # bounds=bounds, \n",
    "    method='dogbox',\n",
    ")"
   ]
  },
  {
   "cell_type": "code",
   "execution_count": null,
   "metadata": {},
   "outputs": [],
   "source": [
    "logistic_y_pred = logistic(dasgupta.dose_mid, *logistic_coefficients)"
   ]
  },
  {
   "source": [
    "Can't find a good fit with a logistic model. Let's try linear."
   ],
   "cell_type": "markdown",
   "metadata": {}
  },
  {
   "cell_type": "code",
   "execution_count": null,
   "metadata": {},
   "outputs": [],
   "source": [
    "def polynomial(x, B0, B1, B2, B3):\n",
    "    \"\"\"\n",
    "    Define the linear model function.\n",
    "\n",
    "    B0 is the intercept\n",
    "    B1 is the coefficient for the x term\n",
    "    B2 is the cofficient for x-squared term\n",
    "    B3 is the coefficient for third order polynomial\n",
    "    \"\"\"\n",
    "    y = B0 + (B1 * x) + (B2 * x**2) + (B3 * x**3)\n",
    "    return y"
   ]
  },
  {
   "cell_type": "code",
   "execution_count": null,
   "metadata": {},
   "outputs": [],
   "source": [
    "poly_coefficients, poly_cov_matrix = curve_fit(\n",
    "    f=polynomial, \n",
    "    xdata=dasgupta.dose_mid, \n",
    "    ydata=dasgupta.OD_rate_per_day, \n",
    ")"
   ]
  },
  {
   "cell_type": "code",
   "execution_count": null,
   "metadata": {},
   "outputs": [],
   "source": [
    "polynomial_pred = polynomial(dasgupta.dose_mid, *coefficients)"
   ]
  },
  {
   "source": [
    "Polynomial term doesn't seem to be doing much, let's try a simple linear model."
   ],
   "cell_type": "markdown",
   "metadata": {}
  },
  {
   "cell_type": "code",
   "execution_count": null,
   "metadata": {},
   "outputs": [],
   "source": [
    "def zero_intercept_linear(x, slope):\n",
    "    \"\"\"\n",
    "    Zero-intercept linear function\n",
    "    \"\"\"\n",
    "    y = slope * x\n",
    "    return y"
   ]
  },
  {
   "cell_type": "code",
   "execution_count": null,
   "metadata": {},
   "outputs": [],
   "source": [
    "lin_coefficients, lin_cov_matrix = curve_fit(\n",
    "    f=zero_intercept_linear, \n",
    "    xdata=dasgupta.dose_mid[:-2], \n",
    "    ydata=dasgupta.OD_rate_per_day[:-2], \n",
    ")"
   ]
  },
  {
   "cell_type": "code",
   "execution_count": null,
   "metadata": {},
   "outputs": [],
   "source": [
    "linear_pred = zero_intercept_linear(dasgupta.dose_mid, *lin_coefficients)\n",
    "linear_pred"
   ]
  },
  {
   "cell_type": "code",
   "execution_count": null,
   "metadata": {},
   "outputs": [],
   "source": [
    "def plot(function):\n",
    "    # Generate an array to use for the prediction line\n",
    "    x_line = np.arange(min(dasgupta.dose_mid), max(dasgupta.dose_mid))\n",
    "    if function == 'linear':\n",
    "        y_line = zero_intercept_linear(x_line, *coefficients)\n",
    "    elif function == 'polynomial':\n",
    "        y_line = polynomial(x_line, *coefficients)\n",
    "    elif function == 'logistic':\n",
    "        y_line = logistic(x_line, *logistic_coefficients)\n",
    "    # Plot\n",
    "    plt.scatter(dasgupta.dose_mid, dasgupta.OD_rate_per_day)\n",
    "    plt.plot(x_line, y_line, '--', color='red')\n",
    "    plt.xlabel('Dose (MME)')\n",
    "    plt.ylabel('OD Probability')\n"
   ]
  },
  {
   "cell_type": "code",
   "execution_count": null,
   "metadata": {},
   "outputs": [],
   "source": [
    "plot('linear')"
   ]
  },
  {
   "cell_type": "code",
   "execution_count": null,
   "metadata": {},
   "outputs": [],
   "source": [
    "plot('polynomial')"
   ]
  },
  {
   "cell_type": "code",
   "execution_count": null,
   "metadata": {},
   "outputs": [],
   "source": [
    "plot('logistic')"
   ]
  },
  {
   "source": [
    "# Logistic coefficients:\n",
    "# L = 1\n",
    "# b = 0\n",
    "# x0 = 1243.6936832876\n",
    "# k = 0.0143710866\n",
    "# y = L / (1 + np.exp(-k * (x - x0))) + b"
   ],
   "cell_type": "code",
   "metadata": {},
   "execution_count": null,
   "outputs": []
  },
  {
   "cell_type": "code",
   "execution_count": null,
   "metadata": {},
   "outputs": [],
   "source": []
  }
 ]
}