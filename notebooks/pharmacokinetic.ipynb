{
 "metadata": {
  "language_info": {
   "codemirror_mode": {
    "name": "ipython",
    "version": 3
   },
   "file_extension": ".py",
   "mimetype": "text/x-python",
   "name": "python",
   "nbconvert_exporter": "python",
   "pygments_lexer": "ipython3",
   "version": "3.8.5-final"
  },
  "orig_nbformat": 2,
  "kernelspec": {
   "name": "python3",
   "display_name": "Python 3",
   "language": "python"
  }
 },
 "nbformat": 4,
 "nbformat_minor": 2,
 "cells": [
  {
   "cell_type": "code",
   "execution_count": null,
   "metadata": {},
   "outputs": [],
   "source": [
    "import math\n",
    "import random\n",
    "import numpy as np\n",
    "import pandas as pd\n",
    "import matplotlib.pyplot as plt\n",
    "import matplotlib.ticker as ticker"
   ]
  },
  {
   "cell_type": "code",
   "execution_count": null,
   "metadata": {},
   "outputs": [],
   "source": [
    "class Simulation:\n",
    "    def __init__(\n",
    "        self, \n",
    "        tmin=1, \n",
    "        tstop=None, \n",
    "        tmax=20_000, \n",
    "        tres=1, \n",
    "        tolerance_window=3_000, \n",
    "        starting_dose=50, \n",
    "        dose_increase=25,\n",
    "        availability=0.05, \n",
    "        threshold=0.01, \n",
    "        a=0.25, \n",
    "        b=1, \n",
    "        alpha1=0.99, \n",
    "        alpha2=0.25\n",
    "    ):\n",
    "        self.tmin = tmin\n",
    "        self.tstop = tstop\n",
    "        self.tmax = tmax\n",
    "        self.tres = tres\n",
    "        self.tolerance_window = tolerance_window\n",
    "        self.starting_dose = starting_dose\n",
    "        self.dose_increase = dose_increase\n",
    "        self.availability = availability\n",
    "        self.threshold = threshold\n",
    "        self.a = a\n",
    "        self.b = b\n",
    "        self.alpha1 = alpha1\n",
    "        self.alpha2 = alpha2\n",
    "\n",
    "        self.simulate()\n",
    "        self.visualize()\n",
    "\n",
    "    def simulate(self):\n",
    "        # Prepare data vectors\n",
    "        time = np.arange(self.tmin, self.tmax, self.tres)\n",
    "        concinit = 0\n",
    "        dose = self.starting_dose\n",
    "        amount_taken = self.starting_dose\n",
    "        self.conc = np.repeat(0.0, self.tmax)\n",
    "        self.conc[0] = self.starting_dose\n",
    "        self.vs_tolerance = np.repeat(0.0, self.tmax)\n",
    "        self.rolling_tolerance = np.repeat(0.0, self.tmax)\n",
    "        self.logistic_tolerance = np.repeat(0.0, self.tmax)\n",
    "        self.effect = np.repeat(0.0, self.tmax)\n",
    "\n",
    "        # Start the clock\n",
    "        tprime = 0    # time since last dose, will be updated as we move through time\n",
    "\n",
    "        for t in time:\n",
    "\n",
    "            # Add to time since last dose\n",
    "            tprime += 1\n",
    "\n",
    "            # Compute concentration of drug using pharmacokinetic model\n",
    "            self.conc[t] = (concinit + amount_taken) * math.exp(-self.a * tprime)\n",
    "\n",
    "            # Check if user will take another dose\n",
    "            if self.tstop is None or t < self.tstop:\n",
    "                if self.conc[t] < self.threshold:\n",
    "                    # Check if drug is available\n",
    "                    if random.uniform(0, 1) < self.availability:\n",
    "                        concinit = self.conc[t]\n",
    "                        tprime = 0\n",
    "                        amount_taken = dose * random.uniform(0.9, 1.1)\n",
    "                        self.conc[t] = (concinit + amount_taken) * math.exp(-self.a * tprime)\n",
    "\n",
    "            # Compute Virtual Smoker version tolerance\n",
    "            self.vs_tolerance[t] = self.alpha1 * self.vs_tolerance[t-1] + self.alpha2 * self.conc[t]\n",
    "\n",
    "            # Compute rolling dose-based tolerance\n",
    "            if t < self.tolerance_window:\n",
    "                to_pad = self.tolerance_window - t\n",
    "                pad = np.repeat(0, to_pad)\n",
    "                self.rolling_tolerance[t] = np.mean(np.append(self.conc[:t], pad)) * 3\n",
    "            else:\n",
    "                self.rolling_tolerance[t] = np.mean(self.conc[t-self.tolerance_window:t]) * 3\n",
    "\n",
    "            # Compute logistic tolerance\n",
    "            def logistic(x, L, k, x0):\n",
    "                '''\n",
    "                L is the curve's maximum value\n",
    "                k is the logistic growth rate or steepness of the curve\n",
    "                x0 is the x value at the sigmoid's midpoint\n",
    "                '''\n",
    "                y = L / (1 + np.exp(-k * (x - x0)))\n",
    "                return y\n",
    "\n",
    "            self.logistic_tolerance[t] = logistic(self.rolling_tolerance[t], L=(dose**1.1)*0.45, k=0.2-(dose*0.0002), x0=dose*.175) \n",
    "\n",
    "\n",
    "            # Compute effect\n",
    "            self.effect[t] = (concinit + amount_taken - self.logistic_tolerance[t]) * math.exp(-self.a * tprime)\n",
    "            # effect[t] = max(conc[t] - rolling_tolerance[t], 0)\n",
    "            # effect[t] = conc[t] - rolling_tolerance[t]\n",
    "\n",
    "            # Check if user will increase dose\n",
    "            if tprime == 1 and self.effect[t] < (dose * 0.25):\n",
    "                if dose < 2_000:\n",
    "                    dose += self.dose_increase\n",
    "\n",
    "    def visualize(self):\n",
    "        fig, ax = plt.subplots(figsize=(15,8))\n",
    "        plt.plot(self.conc, label='concentration')\n",
    "        plt.plot(self.rolling_tolerance, label='rolling tolerance', zorder=3)\n",
    "        plt.plot(self.logistic_tolerance, label='logistic tolerance', zorder=4)\n",
    "        # plt.plot(vs_tolerance, label='tolerance')\n",
    "        plt.plot(self.effect, label='effect')\n",
    "        plt.legend()\n",
    "        plt.xlabel('Day') \n",
    "        plt.ylabel('Dose, MME')\n",
    "        locs, labels = plt.xticks()\n",
    "\n",
    "        scale = 100\n",
    "        ticks_x = ticker.FuncFormatter(lambda x, pos: '{0:g}'.format(x/scale))\n",
    "        ax.xaxis.set_major_formatter(ticks_x)\n"
   ]
  },
  {
   "cell_type": "code",
   "execution_count": null,
   "metadata": {},
   "outputs": [],
   "source": [
    "Simulation(starting_dose=500, tstop=15_000)"
   ]
  },
  {
   "cell_type": "code",
   "execution_count": null,
   "metadata": {},
   "outputs": [],
   "source": [
    "Simulation(starting_dose=2)"
   ]
  },
  {
   "source": [
    "### Reduced availability limits tolerance building"
   ],
   "cell_type": "markdown",
   "metadata": {}
  },
  {
   "cell_type": "code",
   "execution_count": null,
   "metadata": {},
   "outputs": [],
   "source": [
    "Simulation(starting_dose=3, availability=0.05)"
   ]
  },
  {
   "cell_type": "code",
   "execution_count": null,
   "metadata": {},
   "outputs": [],
   "source": [
    "Simulation(starting_dose=3, availability=0.02)\n"
   ]
  },
  {
   "source": [
    "### Tolerance drops off quickly after stopping use\n",
    "#### (In this example somewhere around 10 days)"
   ],
   "cell_type": "markdown",
   "metadata": {}
  },
  {
   "cell_type": "code",
   "execution_count": null,
   "metadata": {},
   "outputs": [],
   "source": [
    "Simulation(starting_dose=1.5, tstop=15_000)"
   ]
  },
  {
   "cell_type": "code",
   "execution_count": null,
   "metadata": {},
   "outputs": [],
   "source": []
  }
 ]
}