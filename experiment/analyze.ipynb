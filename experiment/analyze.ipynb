{
 "cells": [
  {
   "cell_type": "code",
   "execution_count": 1,
   "metadata": {},
   "outputs": [],
   "source": [
    "import pandas as pd\n",
    "import numpy as np\n",
    "import statsmodels.api as sm\n",
    "from sklearn.preprocessing import PolynomialFeatures\n",
    "\n",
    "from pathlib import Path\n",
    "\n",
    "from vou.batch import load_json\n",
    "from experiment.run import get_scenario_dirs"
   ]
  },
  {
   "cell_type": "code",
   "execution_count": 2,
   "metadata": {},
   "outputs": [],
   "source": [
    "def read_scenario_results(scenario_dir: Path):\n",
    "    results = pd.read_csv(scenario_dir.joinpath('results.csv'))\n",
    "    params = load_json(scenario_dir.joinpath('params.json'))\n",
    "\n",
    "    for param_name, param_value in params.items():\n",
    "        results[param_name] = param_value\n",
    "\n",
    "    return results"
   ]
  },
  {
   "cell_type": "code",
   "execution_count": 3,
   "metadata": {},
   "outputs": [],
   "source": [
    "def read_all_results():\n",
    "    scenario_dirs = get_scenario_dirs()\n",
    "    dfs = []\n",
    "\n",
    "    for d in scenario_dirs:\n",
    "        dfs.append(read_scenario_results(Path(d)))\n",
    "\n",
    "    return pd.concat(dfs)"
   ]
  },
  {
   "cell_type": "code",
   "execution_count": 4,
   "metadata": {},
   "outputs": [],
   "source": [
    "df = read_all_results()"
   ]
  },
  {
   "cell_type": "code",
   "execution_count": 5,
   "metadata": {},
   "outputs": [],
   "source": [
    "df['high'] = np.where(df['starting_dose'] == 120, 1, 0)\n",
    "df['med'] = np.where(df['starting_dose'] == 80, 1, 0)"
   ]
  },
  {
   "cell_type": "code",
   "execution_count": 6,
   "metadata": {},
   "outputs": [],
   "source": [
    "Y = df['overdose_count']"
   ]
  },
  {
   "cell_type": "code",
   "execution_count": 7,
   "metadata": {},
   "outputs": [],
   "source": [
    "X = df.loc[:, \n",
    "    (\n",
    "        \"dose_variability\",\n",
    "        \"fentanyl_prob\",\n",
    "        \"counterfeit_prob\",\n",
    "        \"high\",\n",
    "        \"med\",\n",
    "        # \"starting_dose\",\n",
    "        # \"dose_increase\",\n",
    "        # \"behavioral_variability\",\n",
    "        # \"availability\",\n",
    "        # \"internal_risk\",\n",
    "        # \"external_risk\",\n",
    "    )\n",
    "]"
   ]
  },
  {
   "cell_type": "code",
   "execution_count": 8,
   "metadata": {},
   "outputs": [],
   "source": [
    "X['counterfeit_prob_dose_variability'] = X['counterfeit_prob'] * X['dose_variability']\n",
    "X['counterfeit_prob_fentanyl_prob'] = X['counterfeit_prob'] * X['fentanyl_prob']"
   ]
  },
  {
   "cell_type": "code",
   "execution_count": 9,
   "metadata": {},
   "outputs": [],
   "source": [
    "X = sm.add_constant(X)"
   ]
  },
  {
   "cell_type": "code",
   "execution_count": 10,
   "metadata": {},
   "outputs": [],
   "source": [
    "model = sm.OLS(Y, X).fit()"
   ]
  },
  {
   "cell_type": "code",
   "execution_count": 11,
   "metadata": {},
   "outputs": [
    {
     "data": {
      "text/html": [
       "<table class=\"simpletable\">\n",
       "<caption>OLS Regression Results</caption>\n",
       "<tr>\n",
       "  <th>Dep. Variable:</th>     <td>overdose_count</td>  <th>  R-squared:         </th>  <td>   0.587</td>  \n",
       "</tr>\n",
       "<tr>\n",
       "  <th>Model:</th>                   <td>OLS</td>       <th>  Adj. R-squared:    </th>  <td>   0.587</td>  \n",
       "</tr>\n",
       "<tr>\n",
       "  <th>Method:</th>             <td>Least Squares</td>  <th>  F-statistic:       </th>  <td>1.066e+04</td> \n",
       "</tr>\n",
       "<tr>\n",
       "  <th>Date:</th>             <td>Wed, 09 Feb 2022</td> <th>  Prob (F-statistic):</th>   <td>  0.00</td>   \n",
       "</tr>\n",
       "<tr>\n",
       "  <th>Time:</th>                 <td>10:06:15</td>     <th>  Log-Likelihood:    </th> <td>-1.2939e+05</td>\n",
       "</tr>\n",
       "<tr>\n",
       "  <th>No. Observations:</th>      <td> 52500</td>      <th>  AIC:               </th>  <td>2.588e+05</td> \n",
       "</tr>\n",
       "<tr>\n",
       "  <th>Df Residuals:</th>          <td> 52492</td>      <th>  BIC:               </th>  <td>2.589e+05</td> \n",
       "</tr>\n",
       "<tr>\n",
       "  <th>Df Model:</th>              <td>     7</td>      <th>                     </th>      <td> </td>     \n",
       "</tr>\n",
       "<tr>\n",
       "  <th>Covariance Type:</th>      <td>nonrobust</td>    <th>                     </th>      <td> </td>     \n",
       "</tr>\n",
       "</table>\n",
       "<table class=\"simpletable\">\n",
       "<tr>\n",
       "                  <td></td>                     <th>coef</th>     <th>std err</th>      <th>t</th>      <th>P>|t|</th>  <th>[0.025</th>    <th>0.975]</th>  \n",
       "</tr>\n",
       "<tr>\n",
       "  <th>const</th>                             <td>   -0.1570</td> <td>    0.090</td> <td>   -1.754</td> <td> 0.079</td> <td>   -0.333</td> <td>    0.018</td>\n",
       "</tr>\n",
       "<tr>\n",
       "  <th>dose_variability</th>                  <td>    0.2598</td> <td>    0.196</td> <td>    1.323</td> <td> 0.186</td> <td>   -0.125</td> <td>    0.645</td>\n",
       "</tr>\n",
       "<tr>\n",
       "  <th>fentanyl_prob</th>                     <td>    0.0438</td> <td>    0.393</td> <td>    0.112</td> <td> 0.911</td> <td>   -0.726</td> <td>    0.814</td>\n",
       "</tr>\n",
       "<tr>\n",
       "  <th>counterfeit_prob</th>                  <td>    0.2664</td> <td>    0.302</td> <td>    0.882</td> <td> 0.378</td> <td>   -0.326</td> <td>    0.859</td>\n",
       "</tr>\n",
       "<tr>\n",
       "  <th>high</th>                              <td>    7.1981</td> <td>    0.030</td> <td>  236.626</td> <td> 0.000</td> <td>    7.138</td> <td>    7.258</td>\n",
       "</tr>\n",
       "<tr>\n",
       "  <th>med</th>                               <td>    0.0097</td> <td>    0.030</td> <td>    0.317</td> <td> 0.751</td> <td>   -0.050</td> <td>    0.069</td>\n",
       "</tr>\n",
       "<tr>\n",
       "  <th>counterfeit_prob_dose_variability</th> <td>    0.5132</td> <td>    0.675</td> <td>    0.760</td> <td> 0.447</td> <td>   -0.811</td> <td>    1.837</td>\n",
       "</tr>\n",
       "<tr>\n",
       "  <th>counterfeit_prob_fentanyl_prob</th>    <td>   -0.9414</td> <td>    1.351</td> <td>   -0.697</td> <td> 0.486</td> <td>   -3.589</td> <td>    1.707</td>\n",
       "</tr>\n",
       "</table>\n",
       "<table class=\"simpletable\">\n",
       "<tr>\n",
       "  <th>Omnibus:</th>       <td>12526.441</td> <th>  Durbin-Watson:     </th> <td>   2.003</td> \n",
       "</tr>\n",
       "<tr>\n",
       "  <th>Prob(Omnibus):</th>  <td> 0.000</td>   <th>  Jarque-Bera (JB):  </th> <td>57692.656</td>\n",
       "</tr>\n",
       "<tr>\n",
       "  <th>Skew:</th>           <td> 1.094</td>   <th>  Prob(JB):          </th> <td>    0.00</td> \n",
       "</tr>\n",
       "<tr>\n",
       "  <th>Kurtosis:</th>       <td> 7.646</td>   <th>  Cond. No.          </th> <td>    136.</td> \n",
       "</tr>\n",
       "</table><br/><br/>Notes:<br/>[1] Standard Errors assume that the covariance matrix of the errors is correctly specified."
      ],
      "text/plain": [
       "<class 'statsmodels.iolib.summary.Summary'>\n",
       "\"\"\"\n",
       "                            OLS Regression Results                            \n",
       "==============================================================================\n",
       "Dep. Variable:         overdose_count   R-squared:                       0.587\n",
       "Model:                            OLS   Adj. R-squared:                  0.587\n",
       "Method:                 Least Squares   F-statistic:                 1.066e+04\n",
       "Date:                Wed, 09 Feb 2022   Prob (F-statistic):               0.00\n",
       "Time:                        10:06:15   Log-Likelihood:            -1.2939e+05\n",
       "No. Observations:               52500   AIC:                         2.588e+05\n",
       "Df Residuals:                   52492   BIC:                         2.589e+05\n",
       "Df Model:                           7                                         \n",
       "Covariance Type:            nonrobust                                         \n",
       "=====================================================================================================\n",
       "                                        coef    std err          t      P>|t|      [0.025      0.975]\n",
       "-----------------------------------------------------------------------------------------------------\n",
       "const                                -0.1570      0.090     -1.754      0.079      -0.333       0.018\n",
       "dose_variability                      0.2598      0.196      1.323      0.186      -0.125       0.645\n",
       "fentanyl_prob                         0.0438      0.393      0.112      0.911      -0.726       0.814\n",
       "counterfeit_prob                      0.2664      0.302      0.882      0.378      -0.326       0.859\n",
       "high                                  7.1981      0.030    236.626      0.000       7.138       7.258\n",
       "med                                   0.0097      0.030      0.317      0.751      -0.050       0.069\n",
       "counterfeit_prob_dose_variability     0.5132      0.675      0.760      0.447      -0.811       1.837\n",
       "counterfeit_prob_fentanyl_prob       -0.9414      1.351     -0.697      0.486      -3.589       1.707\n",
       "==============================================================================\n",
       "Omnibus:                    12526.441   Durbin-Watson:                   2.003\n",
       "Prob(Omnibus):                  0.000   Jarque-Bera (JB):            57692.656\n",
       "Skew:                           1.094   Prob(JB):                         0.00\n",
       "Kurtosis:                       7.646   Cond. No.                         136.\n",
       "==============================================================================\n",
       "\n",
       "Notes:\n",
       "[1] Standard Errors assume that the covariance matrix of the errors is correctly specified.\n",
       "\"\"\""
      ]
     },
     "execution_count": 11,
     "metadata": {},
     "output_type": "execute_result"
    }
   ],
   "source": [
    "model.summary()"
   ]
  },
  {
   "cell_type": "code",
   "execution_count": 159,
   "metadata": {},
   "outputs": [],
   "source": [
    "def logistic_model(target: str):\n",
    "    y = df[target]\n",
    "    m = sm.Logit(y, X).fit()\n",
    "    return m"
   ]
  },
  {
   "cell_type": "code",
   "execution_count": 160,
   "metadata": {},
   "outputs": [
    {
     "name": "stdout",
     "output_type": "stream",
     "text": [
      "Optimization terminated successfully.\n",
      "         Current function value: 0.587698\n",
      "         Iterations 5\n",
      "                           Logit Regression Results                           \n",
      "==============================================================================\n",
      "Dep. Variable:         fatal_overdose   No. Observations:                52500\n",
      "Model:                          Logit   Df Residuals:                    52494\n",
      "Method:                           MLE   Df Model:                            5\n",
      "Date:                Sun, 06 Feb 2022   Pseudo R-squ.:               0.0003770\n",
      "Time:                        17:14:54   Log-Likelihood:                -30854.\n",
      "converged:                       True   LL-Null:                       -30866.\n",
      "Covariance Type:            nonrobust   LLR p-value:                 0.0002996\n",
      "=====================================================================================================\n",
      "                                        coef    std err          z      P>|z|      [0.025      0.975]\n",
      "-----------------------------------------------------------------------------------------------------\n",
      "const                                -1.1066      0.070    -15.848      0.000      -1.243      -0.970\n",
      "dose_variability                      0.1074      0.156      0.690      0.490      -0.197       0.412\n",
      "fentanyl_prob                         0.2655      0.311      0.854      0.393      -0.344       0.875\n",
      "counterfeit_prob                      0.1689      0.239      0.707      0.480      -0.299       0.637\n",
      "counterfeit_prob_dose_variability     0.4445      0.532      0.835      0.403      -0.598       1.487\n",
      "counterfeit_prob_fentanyl_prob       -0.3895      1.064     -0.366      0.714      -2.475       1.696\n",
      "=====================================================================================================\n"
     ]
    }
   ],
   "source": [
    "m = logistic_model('fatal_overdose')\n",
    "print(m.summary())"
   ]
  },
  {
   "cell_type": "code",
   "execution_count": 152,
   "metadata": {},
   "outputs": [
    {
     "data": {
      "text/plain": [
       "1.1056077414806378"
      ]
     },
     "execution_count": 152,
     "metadata": {},
     "output_type": "execute_result"
    }
   ],
   "source": [
    "# OR for 10% increase in countefeit pill prevalence and dose variability\n",
    "\n",
    "((np.exp(0.1074 + 0.1689 + 0.4445) - 1) / 10) + 1"
   ]
  },
  {
   "cell_type": "code",
   "execution_count": 161,
   "metadata": {},
   "outputs": [
    {
     "data": {
      "text/html": [
       "<div>\n",
       "<style scoped>\n",
       "    .dataframe tbody tr th:only-of-type {\n",
       "        vertical-align: middle;\n",
       "    }\n",
       "\n",
       "    .dataframe tbody tr th {\n",
       "        vertical-align: top;\n",
       "    }\n",
       "\n",
       "    .dataframe thead th {\n",
       "        text-align: right;\n",
       "    }\n",
       "</style>\n",
       "<table border=\"1\" class=\"dataframe\">\n",
       "  <thead>\n",
       "    <tr style=\"text-align: right;\">\n",
       "      <th></th>\n",
       "      <th>Unnamed: 0</th>\n",
       "      <th>dose_increase</th>\n",
       "      <th>overdose_count</th>\n",
       "      <th>overdose_any</th>\n",
       "      <th>fatal_overdose</th>\n",
       "      <th>dose_variability</th>\n",
       "      <th>fentanyl_prob</th>\n",
       "      <th>starting_dose</th>\n",
       "      <th>behavioral_variability</th>\n",
       "      <th>availability</th>\n",
       "      <th>internal_risk</th>\n",
       "      <th>external_risk</th>\n",
       "      <th>high</th>\n",
       "      <th>med</th>\n",
       "      <th>low</th>\n",
       "    </tr>\n",
       "    <tr>\n",
       "      <th>counterfeit_prob</th>\n",
       "      <th></th>\n",
       "      <th></th>\n",
       "      <th></th>\n",
       "      <th></th>\n",
       "      <th></th>\n",
       "      <th></th>\n",
       "      <th></th>\n",
       "      <th></th>\n",
       "      <th></th>\n",
       "      <th></th>\n",
       "      <th></th>\n",
       "      <th></th>\n",
       "      <th></th>\n",
       "      <th></th>\n",
       "      <th></th>\n",
       "    </tr>\n",
       "  </thead>\n",
       "  <tbody>\n",
       "    <tr>\n",
       "      <th>0.065</th>\n",
       "      <td>371250</td>\n",
       "      <td>137500</td>\n",
       "      <td>17622</td>\n",
       "      <td>2500</td>\n",
       "      <td>1970</td>\n",
       "      <td>2250.0</td>\n",
       "      <td>1125.0</td>\n",
       "      <td>625000</td>\n",
       "      <td>875.0</td>\n",
       "      <td>5375.0</td>\n",
       "      <td>3750.0</td>\n",
       "      <td>3750.0</td>\n",
       "      <td>2500</td>\n",
       "      <td>2500</td>\n",
       "      <td>2500</td>\n",
       "    </tr>\n",
       "    <tr>\n",
       "      <th>0.130</th>\n",
       "      <td>371250</td>\n",
       "      <td>137500</td>\n",
       "      <td>17459</td>\n",
       "      <td>2500</td>\n",
       "      <td>2030</td>\n",
       "      <td>2250.0</td>\n",
       "      <td>1125.0</td>\n",
       "      <td>625000</td>\n",
       "      <td>875.0</td>\n",
       "      <td>5375.0</td>\n",
       "      <td>3750.0</td>\n",
       "      <td>3750.0</td>\n",
       "      <td>2500</td>\n",
       "      <td>2500</td>\n",
       "      <td>2500</td>\n",
       "    </tr>\n",
       "    <tr>\n",
       "      <th>0.195</th>\n",
       "      <td>371250</td>\n",
       "      <td>137500</td>\n",
       "      <td>17950</td>\n",
       "      <td>2504</td>\n",
       "      <td>2054</td>\n",
       "      <td>2250.0</td>\n",
       "      <td>1125.0</td>\n",
       "      <td>625000</td>\n",
       "      <td>875.0</td>\n",
       "      <td>5375.0</td>\n",
       "      <td>3750.0</td>\n",
       "      <td>3750.0</td>\n",
       "      <td>2500</td>\n",
       "      <td>2500</td>\n",
       "      <td>2500</td>\n",
       "    </tr>\n",
       "    <tr>\n",
       "      <th>0.260</th>\n",
       "      <td>371250</td>\n",
       "      <td>137500</td>\n",
       "      <td>18228</td>\n",
       "      <td>2508</td>\n",
       "      <td>2060</td>\n",
       "      <td>2250.0</td>\n",
       "      <td>1125.0</td>\n",
       "      <td>625000</td>\n",
       "      <td>875.0</td>\n",
       "      <td>5375.0</td>\n",
       "      <td>3750.0</td>\n",
       "      <td>3750.0</td>\n",
       "      <td>2500</td>\n",
       "      <td>2500</td>\n",
       "      <td>2500</td>\n",
       "    </tr>\n",
       "    <tr>\n",
       "      <th>0.325</th>\n",
       "      <td>371250</td>\n",
       "      <td>137500</td>\n",
       "      <td>18287</td>\n",
       "      <td>2542</td>\n",
       "      <td>2080</td>\n",
       "      <td>2250.0</td>\n",
       "      <td>1125.0</td>\n",
       "      <td>625000</td>\n",
       "      <td>875.0</td>\n",
       "      <td>5375.0</td>\n",
       "      <td>3750.0</td>\n",
       "      <td>3750.0</td>\n",
       "      <td>2500</td>\n",
       "      <td>2500</td>\n",
       "      <td>2500</td>\n",
       "    </tr>\n",
       "    <tr>\n",
       "      <th>0.390</th>\n",
       "      <td>371250</td>\n",
       "      <td>137500</td>\n",
       "      <td>18521</td>\n",
       "      <td>2538</td>\n",
       "      <td>2081</td>\n",
       "      <td>2250.0</td>\n",
       "      <td>1125.0</td>\n",
       "      <td>625000</td>\n",
       "      <td>875.0</td>\n",
       "      <td>5375.0</td>\n",
       "      <td>3750.0</td>\n",
       "      <td>3750.0</td>\n",
       "      <td>2500</td>\n",
       "      <td>2500</td>\n",
       "      <td>2500</td>\n",
       "    </tr>\n",
       "    <tr>\n",
       "      <th>0.455</th>\n",
       "      <td>371250</td>\n",
       "      <td>137500</td>\n",
       "      <td>18072</td>\n",
       "      <td>2544</td>\n",
       "      <td>2149</td>\n",
       "      <td>2250.0</td>\n",
       "      <td>1125.0</td>\n",
       "      <td>625000</td>\n",
       "      <td>875.0</td>\n",
       "      <td>5375.0</td>\n",
       "      <td>3750.0</td>\n",
       "      <td>3750.0</td>\n",
       "      <td>2500</td>\n",
       "      <td>2500</td>\n",
       "      <td>2500</td>\n",
       "    </tr>\n",
       "  </tbody>\n",
       "</table>\n",
       "</div>"
      ],
      "text/plain": [
       "                  Unnamed: 0  dose_increase  overdose_count  overdose_any  \\\n",
       "counterfeit_prob                                                            \n",
       "0.065                 371250         137500           17622          2500   \n",
       "0.130                 371250         137500           17459          2500   \n",
       "0.195                 371250         137500           17950          2504   \n",
       "0.260                 371250         137500           18228          2508   \n",
       "0.325                 371250         137500           18287          2542   \n",
       "0.390                 371250         137500           18521          2538   \n",
       "0.455                 371250         137500           18072          2544   \n",
       "\n",
       "                  fatal_overdose  dose_variability  fentanyl_prob  \\\n",
       "counterfeit_prob                                                    \n",
       "0.065                       1970            2250.0         1125.0   \n",
       "0.130                       2030            2250.0         1125.0   \n",
       "0.195                       2054            2250.0         1125.0   \n",
       "0.260                       2060            2250.0         1125.0   \n",
       "0.325                       2080            2250.0         1125.0   \n",
       "0.390                       2081            2250.0         1125.0   \n",
       "0.455                       2149            2250.0         1125.0   \n",
       "\n",
       "                  starting_dose  behavioral_variability  availability  \\\n",
       "counterfeit_prob                                                        \n",
       "0.065                    625000                   875.0        5375.0   \n",
       "0.130                    625000                   875.0        5375.0   \n",
       "0.195                    625000                   875.0        5375.0   \n",
       "0.260                    625000                   875.0        5375.0   \n",
       "0.325                    625000                   875.0        5375.0   \n",
       "0.390                    625000                   875.0        5375.0   \n",
       "0.455                    625000                   875.0        5375.0   \n",
       "\n",
       "                  internal_risk  external_risk  high   med   low  \n",
       "counterfeit_prob                                                  \n",
       "0.065                    3750.0         3750.0  2500  2500  2500  \n",
       "0.130                    3750.0         3750.0  2500  2500  2500  \n",
       "0.195                    3750.0         3750.0  2500  2500  2500  \n",
       "0.260                    3750.0         3750.0  2500  2500  2500  \n",
       "0.325                    3750.0         3750.0  2500  2500  2500  \n",
       "0.390                    3750.0         3750.0  2500  2500  2500  \n",
       "0.455                    3750.0         3750.0  2500  2500  2500  "
      ]
     },
     "execution_count": 161,
     "metadata": {},
     "output_type": "execute_result"
    }
   ],
   "source": [
    "df.groupby('counterfeit_prob').agg(sum)"
   ]
  },
  {
   "cell_type": "code",
   "execution_count": 162,
   "metadata": {},
   "outputs": [
    {
     "data": {
      "text/plain": [
       "0.016074171604125498"
      ]
     },
     "execution_count": 162,
     "metadata": {},
     "output_type": "execute_result"
    }
   ],
   "source": [
    "(18521 / 18228) - 1"
   ]
  },
  {
   "cell_type": "code",
   "execution_count": 51,
   "metadata": {},
   "outputs": [
    {
     "data": {
      "text/plain": [
       "-0.04021285933728325"
      ]
     },
     "execution_count": 51,
     "metadata": {},
     "output_type": "execute_result"
    }
   ],
   "source": [
    "(17495 / 18228) - 1"
   ]
  }
 ],
 "metadata": {
  "interpreter": {
   "hash": "16482071a8b8e832bb3e8cfed7d9be2ab19135e65a247b1983811020df422475"
  },
  "kernelspec": {
   "display_name": "Python 3.8.5 64-bit ('vou': conda)",
   "language": "python",
   "name": "python3"
  },
  "language_info": {
   "codemirror_mode": {
    "name": "ipython",
    "version": 3
   },
   "file_extension": ".py",
   "mimetype": "text/x-python",
   "name": "python",
   "nbconvert_exporter": "python",
   "pygments_lexer": "ipython3",
   "version": "3.8.5"
  },
  "orig_nbformat": 4
 },
 "nbformat": 4,
 "nbformat_minor": 2
}
